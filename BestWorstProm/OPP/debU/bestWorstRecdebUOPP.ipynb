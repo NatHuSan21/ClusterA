{
 "cells": [
  {
   "cell_type": "code",
   "execution_count": 1,
   "metadata": {},
   "outputs": [
    {
     "ename": "ModuleNotFoundError",
     "evalue": "No module named 'cv2'",
     "output_type": "error",
     "traceback": [
      "\u001b[0;31m---------------------------------------------------------------------------\u001b[0m",
      "\u001b[0;31mModuleNotFoundError\u001b[0m                       Traceback (most recent call last)",
      "\u001b[0;32m<ipython-input-1-e8b05705726e>\u001b[0m in \u001b[0;36m<module>\u001b[0;34m\u001b[0m\n\u001b[0;32m----> 1\u001b[0;31m \u001b[0;32mimport\u001b[0m \u001b[0mcv2\u001b[0m\u001b[0;34m\u001b[0m\u001b[0;34m\u001b[0m\u001b[0m\n\u001b[0m\u001b[1;32m      2\u001b[0m \u001b[0;32mimport\u001b[0m \u001b[0mnumpy\u001b[0m \u001b[0;32mas\u001b[0m \u001b[0mnp\u001b[0m\u001b[0;34m\u001b[0m\u001b[0;34m\u001b[0m\u001b[0m\n\u001b[1;32m      3\u001b[0m \u001b[0;32mimport\u001b[0m \u001b[0mmatplotlib\u001b[0m\u001b[0;34m.\u001b[0m\u001b[0mpyplot\u001b[0m \u001b[0;32mas\u001b[0m \u001b[0mplt\u001b[0m\u001b[0;34m\u001b[0m\u001b[0;34m\u001b[0m\u001b[0m\n\u001b[1;32m      4\u001b[0m \u001b[0;32mimport\u001b[0m \u001b[0mpandas\u001b[0m \u001b[0;32mas\u001b[0m \u001b[0mpd\u001b[0m\u001b[0;34m\u001b[0m\u001b[0;34m\u001b[0m\u001b[0m\n",
      "\u001b[0;31mModuleNotFoundError\u001b[0m: No module named 'cv2'"
     ]
    }
   ],
   "source": [
    "import cv2\n",
    "import numpy as np\n",
    "import matplotlib.pyplot as plt\n",
    "import pandas as pd "
   ]
  },
  {
   "cell_type": "code",
   "execution_count": null,
   "metadata": {},
   "outputs": [],
   "source": [
    "def printImgs(images, n=1, m=1, title=''):\n",
    "    \n",
    "    images = images[:n*m]\n",
    "    fig, axs = plt.subplots(\n",
    "        nrows=n, ncols=m, \n",
    "        figsize=(15, 20), \n",
    "        subplot_kw={\n",
    "            'xticks': [], \n",
    "            'yticks': []\n",
    "        }\n",
    "    )\n",
    "    for ax, image in zip(axs.flat, images):\n",
    "        ax.imshow(cv2.cvtColor(image, cv2.COLOR_BGR2RGB))\n",
    "    plt.savefig(title)    \n",
    "    plt.show()\n",
    "\n",
    "\n",
    "def printGrafs(images, n=1, m=1, title=''):\n",
    "    \n",
    "    images = images[:n*m]\n",
    "    fig, axs = plt.subplots(\n",
    "        nrows=n, ncols=m, \n",
    "        figsize=(18, 20), \n",
    "        subplot_kw={\n",
    "            'xticks': [], \n",
    "            'yticks': []\n",
    "        }\n",
    "    )\n",
    "    for ax, image in zip(axs.flat, images):\n",
    "        ax.imshow(cv2.cvtColor(image, cv2.COLOR_BGR2RGB))\n",
    "    plt.savefig(title)    \n",
    "    plt.show()"
   ]
  },
  {
   "cell_type": "code",
   "execution_count": null,
   "metadata": {},
   "outputs": [],
   "source": [
    "### DIP - VTV - GradRimm - Dirac\n",
    "lsNumPrue = ['400B','390','420C','392B']\n",
    "lambAsLS = ['0','0.01','0.003','0.01']\n",
    "typeP = 'debU'\n",
    "\n",
    "espColor = 'opp'\n",
    "\n",
    "lsData =[]\n",
    "lsplotY = []\n"
   ]
  },
  {
   "cell_type": "code",
   "execution_count": null,
   "metadata": {},
   "outputs": [],
   "source": [
    "lsH = [23]\n",
    "lsV = [17,19]\n",
    "imgH = 23\n",
    "imgV = 17"
   ]
  },
  {
   "cell_type": "code",
   "execution_count": null,
   "metadata": {},
   "outputs": [],
   "source": [
    "#cv2.imwrite(namefig,  imgUn)"
   ]
  },
  {
   "cell_type": "code",
   "execution_count": null,
   "metadata": {},
   "outputs": [],
   "source": [
    "#Recortar imagenes\n",
    "\n",
    "def RecorImg2(rutaNameImg):\n",
    "\n",
    "    for i in range(1,3):\n",
    "        namefig = rutaNameImg + str(i) + '.png' \n",
    "\n",
    "        image = cv2.imread(namefig)\n",
    "\n",
    "        imageOut = image[250:1770,220:1625]\n",
    "        print(imageOut.shape)\n",
    "        \n",
    "        colum1=imageOut[:,:420]\n",
    "        colum2=imageOut[:,480:910]\n",
    "        colum3=imageOut[:,970:]\n",
    "        \n",
    "        imgUn=np.concatenate((colum1, colum2,colum3),axis=1)\n",
    "        \n",
    "        #plt.axis('off')\n",
    "        #plt.imshow(imageOut)\n",
    "        #plt.savefig(namefig)\n",
    "        #plt.imsave(namefig,  imageOut)\n",
    "        cv2.imwrite(namefig,  imgUn)\n",
    "\n",
    "#rutaNameImg = './outGraf/' + 'grafPNSRImg'+ Nprueb +'p'\n",
    "#RecorImg(rutaNameImg)\n",
    "\n",
    "#rutaNameImg = './outGraf/'+ 'grafPNSRImgtotal'+ typeP + espColor +'p'\n",
    "#RecorImg2(rutaNameImg)"
   ]
  },
  {
   "cell_type": "code",
   "execution_count": null,
   "metadata": {},
   "outputs": [],
   "source": [
    "#namefig = 'ComImgden25KODIMnum17' + '.png'  \n",
    "namefig = 'ComImg' + typeP + 'KODIMnum'+ str(imgH)  + '.png'  \n",
    "imgOut = cv2.imread(namefig)"
   ]
  },
  {
   "cell_type": "code",
   "execution_count": null,
   "metadata": {},
   "outputs": [],
   "source": [
    "plt.imshow(imgOut)"
   ]
  },
  {
   "cell_type": "code",
   "execution_count": null,
   "metadata": {},
   "outputs": [],
   "source": [
    "#imageREC =imgOut[300:1721,175:1360]\n",
    "imageREC =imgOut[444:1575,180:1354]\n",
    "print(imageREC.shape)\n",
    "    \n",
    "#plt.axis('off')\n",
    "plt.imshow(imageREC)"
   ]
  },
  {
   "cell_type": "code",
   "execution_count": null,
   "metadata": {},
   "outputs": [],
   "source": [
    "\n",
    "fila1=imgOut[444:736,180:1354]\n",
    "fila2=imgOut[1285:1570,180:1354]\n",
    "        \n",
    "imgUn=np.concatenate((fila1,fila2),axis=0)\n",
    "\n",
    "plt.imshow(imgUn)"
   ]
  },
  {
   "cell_type": "code",
   "execution_count": null,
   "metadata": {},
   "outputs": [],
   "source": []
  },
  {
   "cell_type": "code",
   "execution_count": null,
   "metadata": {},
   "outputs": [],
   "source": [
    "def RecVert1(imgOut):\n",
    "    fila1=imgOut[300:880,175:1360]\n",
    "    fila2=imgOut[1140:1725,175:1360]\n",
    "\n",
    "    imgUn=np.concatenate((fila1,fila2),axis=0)\n",
    "\n",
    "    plt.axis('off')\n",
    "    plt.imshow(imgUn)\n",
    "    \n",
    "    return imgUn"
   ]
  },
  {
   "cell_type": "code",
   "execution_count": null,
   "metadata": {},
   "outputs": [],
   "source": [
    "#ls = []\n",
    "num=17\n",
    "\n",
    "for num in lsV:\n",
    "    namefig = 'ComImg' + typeP + 'KODIMnum' + str(num) + '.png'    \n",
    "\n",
    "    imgOut = cv2.imread(namefig)\n",
    "    imgRec=RecVert1(imgOut)\n",
    "    namefig = 'REC/ComImg' + typeP + 'KODIMnum' + str(num) + 'rec.png'    \n",
    "    cv2.imwrite(namefig,  imgRec)"
   ]
  },
  {
   "cell_type": "code",
   "execution_count": null,
   "metadata": {},
   "outputs": [],
   "source": [
    "ls = []\n",
    "num=17\n",
    "\n",
    "for num in lsV:\n",
    "    namefig = 'ComImgVect' + typeP + 'KODIMnum' + str(num) + '.png'    \n",
    "\n",
    "    imgOut = cv2.imread(namefig)\n",
    "    imgRec=RecVert1(imgOut)\n",
    "    namefig = 'REC/ComImgVect' + typeP + 'KODIMnum' + str(num) + 'rec.png'    \n",
    "    cv2.imwrite(namefig,  imgRec)"
   ]
  },
  {
   "cell_type": "code",
   "execution_count": null,
   "metadata": {},
   "outputs": [],
   "source": [
    "def RecHor1(imgOut):\n",
    "    fila1=imgOut[444:736,180:1354]\n",
    "    fila2=imgOut[1285:1570,180:1354]\n",
    "\n",
    "    imgUn=np.concatenate((fila1,fila2),axis=0)\n",
    "\n",
    "    plt.axis('off')\n",
    "    plt.imshow(imgUn)\n",
    "    \n",
    "    return imgUn"
   ]
  },
  {
   "cell_type": "code",
   "execution_count": null,
   "metadata": {},
   "outputs": [],
   "source": [
    "ls = [11,20,24]\n",
    "num=21\n",
    "\n",
    "for num in lsH:\n",
    "    namefig = 'ComImg' + typeP + 'KODIMnum' + str(num) + '.png'    \n",
    "\n",
    "    imgOut = cv2.imread(namefig)\n",
    "    imgRec = RecHor1(imgOut)\n",
    "    namefig = 'REC/ComImg' + typeP + 'KODIMnum' + str(num) + 'rec.png'    \n",
    "    cv2.imwrite(namefig,  imgRec)"
   ]
  },
  {
   "cell_type": "code",
   "execution_count": null,
   "metadata": {},
   "outputs": [],
   "source": [
    "ls = [11,20,24]\n",
    "num=21\n",
    "\n",
    "for num in lsH:\n",
    "    namefig = 'ComImgVect' + typeP + 'KODIMnum' + str(num) + '.png'    \n",
    "\n",
    "    imgOut = cv2.imread(namefig)\n",
    "    imgRec = RecHor1(imgOut)\n",
    "    namefig = 'REC/ComImgVect' + typeP + 'KODIMnum' + str(num) + 'rec.png'    \n",
    "    cv2.imwrite(namefig,  imgRec)"
   ]
  },
  {
   "cell_type": "code",
   "execution_count": null,
   "metadata": {},
   "outputs": [],
   "source": [
    "namefig = 'ComImgRectG' + typeP + 'KODIMnum'+str(imgH) + '.png'  \n",
    "imgOut = cv2.imread(namefig)"
   ]
  },
  {
   "cell_type": "code",
   "execution_count": null,
   "metadata": {},
   "outputs": [],
   "source": [
    "plt.imshow(imgOut)"
   ]
  },
  {
   "cell_type": "code",
   "execution_count": null,
   "metadata": {},
   "outputs": [],
   "source": [
    "imageREC = imgOut[390:1632,175:1355]\n",
    "print(imageREC.shape)\n",
    "    \n",
    "#plt.axis('off')\n",
    "plt.imshow(imageREC)"
   ]
  },
  {
   "cell_type": "code",
   "execution_count": null,
   "metadata": {},
   "outputs": [],
   "source": [
    "\n",
    "fila1=imgOut[390:794,175:1355]\n",
    "fila2=imgOut[1224:1632,175:1355]\n",
    "        \n",
    "imgUn=np.concatenate((fila1,fila2),axis=0)\n",
    "\n",
    "plt.imshow(imgUn)"
   ]
  },
  {
   "cell_type": "code",
   "execution_count": null,
   "metadata": {},
   "outputs": [],
   "source": [
    "def RecCuadra1(imgOut):\n",
    "    fila1=imgOut[390:794,175:1355]\n",
    "    fila2=imgOut[1224:1632,175:1355]\n",
    "\n",
    "    imgUn=np.concatenate((fila1,fila2),axis=0)\n",
    "\n",
    "    plt.axis('off')\n",
    "    plt.imshow(imgUn)\n",
    "    \n",
    "    return imgUn"
   ]
  },
  {
   "cell_type": "code",
   "execution_count": null,
   "metadata": {},
   "outputs": [],
   "source": [
    "lsA = lsH#[11,20,24]\n",
    "num=21\n",
    "\n",
    "for num in lsV:\n",
    "    namefig = 'ComImgRectG' + typeP + 'KODIMnum' + str(num) + '.png'    \n",
    "\n",
    "    imgOut = cv2.imread(namefig)\n",
    "    imgRec = RecCuadra1(imgOut)\n",
    "    namefig = 'REC/ComImgRectG' + typeP + 'KODIMnum' + str(num) + 'rec.png'    \n",
    "    cv2.imwrite(namefig,  imgRec)\n",
    "    \n",
    "for num in lsH:\n",
    "    namefig = 'ComImgRectR' + typeP + 'KODIMnum' + str(num) + '.png'    \n",
    "\n",
    "    imgOut = cv2.imread(namefig)\n",
    "    imgRec = RecCuadra1(imgOut)\n",
    "    namefig = 'REC/ComImgRectR' + typeP + 'KODIMnum' + str(num) + 'rec.png'    \n",
    "    cv2.imwrite(namefig,  imgRec)"
   ]
  },
  {
   "cell_type": "code",
   "execution_count": null,
   "metadata": {},
   "outputs": [],
   "source": [
    "namefig = 'ImgAng' + typeP + 'KODIMnum' + str(imgH) + '.png'  \n",
    "imgOut = cv2.imread(namefig)\n",
    "\n",
    "plt.imshow(imgOut)"
   ]
  },
  {
   "cell_type": "code",
   "execution_count": null,
   "metadata": {},
   "outputs": [],
   "source": [
    "imageREC = imgOut[330:1695,180:1255]\n",
    "print(imageREC.shape)\n",
    "    \n",
    "#plt.axis('off')\n",
    "plt.imshow(imageREC)\n",
    "\n",
    "\n"
   ]
  },
  {
   "cell_type": "code",
   "execution_count": null,
   "metadata": {},
   "outputs": [],
   "source": [
    "fila1=imgOut[330:860,180:1255]\n",
    "fila2=imgOut[1165:1695,180:1255]\n",
    "        \n",
    "imgUn=np.concatenate((fila1,fila2),axis=0)\n",
    "\n",
    "plt.imshow(imgUn)\n",
    "\n",
    "print(imgUn.shape)\n"
   ]
  },
  {
   "cell_type": "code",
   "execution_count": null,
   "metadata": {},
   "outputs": [],
   "source": [
    "imgBarra = imgOut[480:1540,1295:1412]\n",
    "print(imgBarra.shape)\n",
    "    \n",
    "#plt.axis('off')\n",
    "plt.imshow(imgBarra)"
   ]
  },
  {
   "cell_type": "code",
   "execution_count": null,
   "metadata": {},
   "outputs": [],
   "source": [
    "imgAng=np.concatenate((imgUn,imgBarra ),axis=1)\n",
    "\n",
    "plt.imshow(imgAng)\n",
    "\n",
    "print(imgAng.shape)"
   ]
  },
  {
   "cell_type": "code",
   "execution_count": null,
   "metadata": {},
   "outputs": [],
   "source": [
    "def RecAngV(imgOut):\n",
    "    fila1=imgOut[330:860,180:1255]\n",
    "    fila2=imgOut[1165:1695,180:1255]\n",
    "\n",
    "    imgUn=np.concatenate((fila1,fila2),axis=0)\n",
    "\n",
    "    imgBarra = imgOut[480:1540,1295:1412]\n",
    "    \n",
    "    imgAng=np.concatenate((imgUn,imgBarra ),axis=1)\n",
    "\n",
    "    #plt.axis('off')\n",
    "    plt.imshow(imgAng)\n",
    "    \n",
    "    return imgAng\n"
   ]
  },
  {
   "cell_type": "code",
   "execution_count": null,
   "metadata": {},
   "outputs": [],
   "source": [
    "ls = []\n",
    "num=17\n",
    "\n",
    "for num in lsV:\n",
    "    namefig = 'ImgAng' + typeP + 'KODIMnum' + str(num) + '.png'    \n",
    "\n",
    "    imgOut = cv2.imread(namefig)\n",
    "    imgRec =  RecAngV(imgOut)\n",
    "    namefig = 'REC/ImgAng' + typeP + 'KODIMnum' + str(num) + 'rec.png'    \n",
    "    cv2.imwrite(namefig,  imgRec)"
   ]
  },
  {
   "cell_type": "code",
   "execution_count": null,
   "metadata": {},
   "outputs": [],
   "source": [
    "namefig = 'ImgAng' + typeP + 'KODIMnum' +str(imgH)+ '.png'  \n",
    "imgOut = cv2.imread(namefig)\n",
    "\n",
    "plt.imshow(imgOut)"
   ]
  },
  {
   "cell_type": "code",
   "execution_count": null,
   "metadata": {},
   "outputs": [],
   "source": [
    "imageREC = imgOut[455:1565,180:1250]\n",
    "print(imageREC.shape)\n",
    "    \n",
    "#plt.axis('off')\n",
    "plt.imshow(imageREC)"
   ]
  },
  {
   "cell_type": "code",
   "execution_count": null,
   "metadata": {},
   "outputs": [],
   "source": [
    "fila1=imgOut[455:725,180:1250]\n",
    "fila2=imgOut[1295:1565,180:1250]\n",
    "        \n",
    "imgUn=np.concatenate((fila1,fila2),axis=0)\n",
    "\n",
    "plt.imshow(imgUn)\n",
    "\n",
    "print(imgUn.shape)"
   ]
  },
  {
   "cell_type": "code",
   "execution_count": null,
   "metadata": {},
   "outputs": [],
   "source": [
    "#imgBarra = imgOut[530:1490,1295:1405] \n",
    "imgBarra = imgOut[470:1550,1295:1405] #+30+30\n",
    "print(imgBarra.shape)\n",
    "    \n",
    "#plt.axis('off')\n",
    "plt.imshow(imgBarra)"
   ]
  },
  {
   "cell_type": "code",
   "execution_count": null,
   "metadata": {},
   "outputs": [],
   "source": [
    "imageDown = cv2.pyrDown(imgBarra)\n",
    "print(\"Size of image after pyrDown: \", imageDown.shape)\n",
    "plt.imshow(imageDown)"
   ]
  },
  {
   "cell_type": "code",
   "execution_count": null,
   "metadata": {},
   "outputs": [],
   "source": [
    "imgAng=np.concatenate((imgUn,imageDown),axis=1)\n",
    "\n",
    "plt.imshow(imgAng)\n",
    "\n",
    "print(imgAng.shape)"
   ]
  },
  {
   "cell_type": "code",
   "execution_count": null,
   "metadata": {},
   "outputs": [],
   "source": [
    "def RecAngH(imgOut):\n",
    "    fila1=imgOut[455:725,180:1250]\n",
    "    fila2=imgOut[1295:1565,180:1250]\n",
    "\n",
    "    imgUn=np.concatenate((fila1,fila2),axis=0)\n",
    "\n",
    "    imgBarra = imgOut[470:1550,1295:1405]\n",
    "    imageDown = cv2.pyrDown(imgBarra)\n",
    "    \n",
    "    imgAng=np.concatenate((imgUn,imageDown),axis=1)\n",
    "\n",
    "    #plt.axis('off')\n",
    "    plt.imshow(imgAng)\n",
    "    \n",
    "    return imgAng"
   ]
  },
  {
   "cell_type": "code",
   "execution_count": null,
   "metadata": {},
   "outputs": [],
   "source": [
    "ls = [11,20,24]\n",
    "num= 21\n",
    "\n",
    "for num in lsH:\n",
    "    namefig = 'ImgAng' + typeP + 'KODIMnum' + str(num) + '.png'    \n",
    "\n",
    "    imgOut = cv2.imread(namefig)\n",
    "    imgRec =  RecAngH(imgOut)\n",
    "    namefig = 'REC/ImgAng' + typeP + 'KODIMnum' + str(num) + 'rec.png'    \n",
    "    cv2.imwrite(namefig,  imgRec)"
   ]
  },
  {
   "cell_type": "code",
   "execution_count": null,
   "metadata": {},
   "outputs": [],
   "source": []
  }
 ],
 "metadata": {
  "kernelspec": {
   "display_name": "Python 3",
   "language": "python",
   "name": "python3"
  },
  "language_info": {
   "codemirror_mode": {
    "name": "ipython",
    "version": 3
   },
   "file_extension": ".py",
   "mimetype": "text/x-python",
   "name": "python",
   "nbconvert_exporter": "python",
   "pygments_lexer": "ipython3",
   "version": "3.7.3"
  }
 },
 "nbformat": 4,
 "nbformat_minor": 5
}
